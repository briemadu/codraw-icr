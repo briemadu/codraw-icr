{
 "cells": [
  {
   "cell_type": "markdown",
   "metadata": {},
   "source": [
    "# Evaluation and Error Analysis"
   ]
  },
  {
   "cell_type": "markdown",
   "metadata": {},
   "source": [
    "This notebook (actually, only the second part) needs to be run twice, once for the teller and once for the drawer."
   ]
  },
  {
   "cell_type": "code",
   "execution_count": 1,
   "metadata": {},
   "outputs": [],
   "source": [
    "import os\n",
    "import sys\n",
    "from pathlib import Path\n",
    "\n",
    "sys.path.append('..')\n",
    "\n",
    "import csv\n",
    "import json\n",
    "import matplotlib.pyplot as plt\n",
    "import pandas as pd\n",
    "import seaborn as sns\n",
    "from sklearn import metrics\n",
    "from sklearn.preprocessing import normalize\n",
    "\n",
    "from icr.structs.game import Game"
   ]
  },
  {
   "cell_type": "code",
   "execution_count": 2,
   "metadata": {},
   "outputs": [],
   "source": [
    "sns.set_theme()\n",
    "pd.options.display.max_rows = 999"
   ]
  },
  {
   "cell_type": "code",
   "execution_count": 3,
   "metadata": {},
   "outputs": [],
   "source": [
    "OUTPUT_DIR = Path('../outputs')"
   ]
  },
  {
   "cell_type": "code",
   "execution_count": 4,
   "metadata": {},
   "outputs": [],
   "source": [
    "def retrieve_outputs(folder):\n",
    "    \"\"\"Get the outputs for the validation set (at best validation epoch) and the test.\"\"\"\n",
    "    with open(folder / 'config.json', 'r') as f:\n",
    "        config = json.load(f)\n",
    "    with open(folder / 'best-epoch.txt', 'r') as f:\n",
    "        best_epoch = int(f.read())\n",
    "    best_val_outputs_path = Path(folder / f'val_{best_epoch}.csv')\n",
    "    val_outputs = pd.read_csv(best_val_outputs_path, sep=',')\n",
    "    test_outputs_path = Path(folder / f'test_{best_epoch}.csv')\n",
    "    test_outputs = pd.read_csv(test_outputs_path, sep=',')    \n",
    "    return config, best_epoch, val_outputs, test_outputs\n",
    "\n",
    "def split_outputs(outputs):\n",
    "    \"\"\"Split the datafram into its columns.\"\"\"\n",
    "    game_ids = outputs['game_id']\n",
    "    turns = outputs['turn']\n",
    "    labels = outputs['label']\n",
    "    predictions = outputs['pred']\n",
    "    probs = outputs['prob']\n",
    "    return game_ids, turns, labels, predictions, probs\n",
    "\n",
    "def get_metrics(info):\n",
    "    \"\"\"Compute macro-F1 and average precision score for validation and test sets.\"\"\"\n",
    "    results = {}\n",
    "    for split in ('val', 'test'):\n",
    "    \n",
    "        game_ids, turns, labels, predictions, probs = split_outputs(info[f'{split}_outputs']) \n",
    "        macro_f1 = metrics.f1_score(labels, predictions, average='macro')\n",
    "        avp = metrics.average_precision_score(labels, probs)\n",
    "        results[split] = {'avp': avp, 'macro_f1': macro_f1}\n",
    "    \n",
    "    return results"
   ]
  },
  {
   "cell_type": "markdown",
   "metadata": {},
   "source": [
    "Read all output files. We get the configuration and the outputs at the best validation epoch:"
   ]
  },
  {
   "cell_type": "code",
   "execution_count": 5,
   "metadata": {},
   "outputs": [],
   "source": [
    "output_directories = []\n",
    "for filename in os.listdir(OUTPUT_DIR):\n",
    "    f = os.path.join(OUTPUT_DIR, filename)\n",
    "    if os.path.isdir(f):\n",
    "        output_directories.append(f)\n",
    "\n",
    "experiments = {}\n",
    "for folder in output_directories:\n",
    "    config, best_epoch, val_outputs, test_outputs = retrieve_outputs(Path(folder))\n",
    "    # one experiment was run for 200 epochs, to make sure the model can overfit the training data\n",
    "    # we don't need it here\n",
    "    if config['n_epochs'] == 200:\n",
    "        continue\n",
    "    experiments[folder] = {'config': config, 'best_epoch': best_epoch, \n",
    "                           'val_outputs': val_outputs, 'test_outputs': test_outputs}\n",
    "\n",
    "assert len(experiments) == 12"
   ]
  },
  {
   "cell_type": "markdown",
   "metadata": {},
   "source": [
    "### Table 5: Main results"
   ]
  },
  {
   "cell_type": "code",
   "execution_count": 6,
   "metadata": {},
   "outputs": [],
   "source": [
    "main_results = {}\n",
    "n = 0\n",
    "for path, info in experiments.items():\n",
    "    if (info['config']['no_msg'] \n",
    "        or info['config']['no_context'] \n",
    "        or info['config']['no_image']\n",
    "        or info['config']['text_pretrained'] != 'all-mpnet-base-v2'):\n",
    "        continue\n",
    "    task = info['config']['task']\n",
    "    main_results[task] = get_metrics(info)\n",
    "    main_results[task]['path'] = path\n",
    "    n += 1\n",
    "\n",
    "assert n == 2"
   ]
  },
  {
   "cell_type": "code",
   "execution_count": 7,
   "metadata": {},
   "outputs": [
    {
     "name": "stdout",
     "output_type": "stream",
     "text": [
      "model & val & 0.39985 & 0.66265 & 0.99126 & 0.96909 \\\\ \n",
      "model & test & 0.34734 & 0.64512 & 0.98885 & 0.96880 \\\\ \n",
      "\n"
     ]
    }
   ],
   "source": [
    "latex_table = ''\n",
    "\n",
    "for split in ('val', 'test'):\n",
    "    avp = main_results['drawer'][split]['avp']\n",
    "    macro_f1 = main_results['drawer'][split]['macro_f1']\n",
    "    latex_table += f'model & {split} & {avp:.5f} & {macro_f1:.5f}'\n",
    "    \n",
    "    avp = main_results['teller'][split]['avp']\n",
    "    macro_f1 = main_results['teller'][split]['macro_f1']\n",
    "    latex_table += f' & {avp:.5f} & {macro_f1:.5f} \\\\\\\\ \\n'\n",
    "\n",
    "print(latex_table)"
   ]
  },
  {
   "cell_type": "markdown",
   "metadata": {},
   "source": [
    "### Table 6: Ablation"
   ]
  },
  {
   "cell_type": "code",
   "execution_count": 8,
   "metadata": {},
   "outputs": [],
   "source": [
    "ablation_results = {'teller': {}, 'drawer': {}}\n",
    "n = 0\n",
    "for path, info in experiments.items():\n",
    "    task = info['config']['task']\n",
    "    # last message removed \n",
    "    if info['config']['no_msg'] and not info['config']['no_context'] and not info['config']['no_image']:\n",
    "        ablation_results[task]['no_message'] = get_metrics(info)\n",
    "        ablation_results[task]['no_message']['path'] = path\n",
    "        n += 1\n",
    "    # context removed\n",
    "    elif not info['config']['no_msg'] and info['config']['no_context'] and not info['config']['no_image']:\n",
    "        ablation_results[task]['no_context'] = get_metrics(info)\n",
    "        ablation_results[task]['no_context']['path'] = path\n",
    "        n += 1\n",
    "    # image removed\n",
    "    elif not info['config']['no_msg'] and not info['config']['no_context'] and info['config']['no_image']:\n",
    "        ablation_results[task]['no_image'] = get_metrics(info)\n",
    "        ablation_results[task]['no_image']['path'] = path\n",
    "        n += 1\n",
    "\n",
    "assert n == 6"
   ]
  },
  {
   "cell_type": "code",
   "execution_count": 9,
   "metadata": {},
   "outputs": [
    {
     "name": "stdout",
     "output_type": "stream",
     "text": [
      "no_image & val & 0.36686 & 0.64966 & 0.99260 & 0.97414 \\\\ \n",
      "\n",
      "no_image & test & 0.32081 & 0.63499 & 0.98814 & 0.96924 \\\\ \n",
      "\n",
      "no_message & val & 0.34977 & 0.64125 & 0.33899 & 0.64064 \\\\ \n",
      "\n",
      "no_message & test & 0.30804 & 0.63501 & 0.28808 & 0.61333 \\\\ \n",
      "\n",
      "no_context & val & 0.29031 & 0.60817 & 0.99232 & 0.97622 \\\\ \n",
      "\n",
      "no_context & test & 0.26490 & 0.59785 & 0.98865 & 0.97069 \\\\ \n",
      "\n",
      "\n"
     ]
    }
   ],
   "source": [
    "latex_table = ''\n",
    "\n",
    "for no_input in ('no_image', 'no_message', 'no_context'):\n",
    "    for split in ('val', 'test'):\n",
    "        avp = ablation_results['drawer'][no_input][split]['avp']\n",
    "        macro_f1 = ablation_results['drawer'][no_input][split]['macro_f1']\n",
    "        latex_table += f'{no_input} & {split} & {avp:.5f} & {macro_f1:.5f}'\n",
    "\n",
    "        avp = ablation_results['teller'][no_input][split]['avp']\n",
    "        macro_f1 = ablation_results['teller'][no_input][split]['macro_f1']\n",
    "        latex_table += f' & {avp:.5f} & {macro_f1:.5f} \\\\\\\\ \\n\\n'\n",
    "\n",
    "print(latex_table)"
   ]
  },
  {
   "cell_type": "markdown",
   "metadata": {},
   "source": [
    "Same table as above, using differences to main experiment:"
   ]
  },
  {
   "cell_type": "code",
   "execution_count": 10,
   "metadata": {},
   "outputs": [
    {
     "name": "stdout",
     "output_type": "stream",
     "text": [
      "no_image & val & -0.03299 & -0.01299 & 0.00134 & 0.00505 \\\\ \n",
      "\n",
      "no_image & test & -0.02653 & -0.01013 & -0.00072 & 0.00044 \\\\ \n",
      "\n",
      "no_message & val & -0.05007 & -0.02140 & -0.65227 & -0.32845 \\\\ \n",
      "\n",
      "no_message & test & -0.03930 & -0.01011 & -0.70077 & -0.35547 \\\\ \n",
      "\n",
      "no_context & val & -0.10954 & -0.05447 & 0.00105 & 0.00713 \\\\ \n",
      "\n",
      "no_context & test & -0.08244 & -0.04726 & -0.00021 & 0.00189 \\\\ \n",
      "\n",
      "\n"
     ]
    }
   ],
   "source": [
    "latex_table = ''\n",
    "\n",
    "for no_input in ('no_image', 'no_message', 'no_context'):\n",
    "    for split in ('val', 'test'):\n",
    "\n",
    "        avp = ablation_results['drawer'][no_input][split]['avp']\n",
    "        macro_f1 = ablation_results['drawer'][no_input][split]['macro_f1']\n",
    "        diff_avp = avp - main_results['drawer'][split]['avp']\n",
    "        diff_macro_f1 = macro_f1 - main_results['drawer'][split]['macro_f1']\n",
    "        latex_table += f'{no_input} & {split} & {diff_avp:.5f} & {diff_macro_f1:.5f}'\n",
    "\n",
    "        avp = ablation_results['teller'][no_input][split]['avp']\n",
    "        macro_f1 = ablation_results['teller'][no_input][split]['macro_f1']\n",
    "        diff_avp = avp - main_results['teller'][split]['avp']\n",
    "        diff_macro_f1 = macro_f1 - main_results['teller'][split]['macro_f1']\n",
    "        latex_table += f' & {diff_avp:.5f} & {diff_macro_f1:.5f} \\\\\\\\ \\n\\n'\n",
    "\n",
    "print(latex_table)"
   ]
  },
  {
   "cell_type": "code",
   "execution_count": 11,
   "metadata": {},
   "outputs": [],
   "source": [
    "subablation_results = {'teller': {}, 'drawer': {}}\n",
    "n = 0\n",
    "for path, info in experiments.items():\n",
    "    if info['config']['text_pretrained'] != 'all-mpnet-base-v2':\n",
    "        which = info['config']['text_pretrained'].split('v2_')[1]\n",
    "        subablation_results[info['config']['task']][which] = get_metrics(info)\n",
    "        subablation_results[info['config']['task']][which]['path'] = path\n",
    "        n += 1\n",
    "\n",
    "assert n == 4"
   ]
  },
  {
   "cell_type": "code",
   "execution_count": 12,
   "metadata": {},
   "outputs": [
    {
     "name": "stdout",
     "output_type": "stream",
     "text": [
      "no-teller & val & 0.39836 & 0.66293 & 0.98999 & 0.96856 \\\\ \n",
      "\n",
      "no-teller & test & 0.39234 & 0.65820 & 0.98864 & 0.96727 \\\\ \n",
      "\n",
      "no-drawer & val & 0.31266 & 0.60778 & 0.99080 & 0.97616 \\\\ \n",
      "\n",
      "no-drawer & test & 0.26853 & 0.59284 & 0.98994 & 0.97358 \\\\ \n",
      "\n",
      "\n"
     ]
    }
   ],
   "source": [
    "latex_table = ''\n",
    "\n",
    "for which in ('no-teller', 'no-drawer'):\n",
    "    for split in ('val', 'test'):\n",
    "        \n",
    "        avp = subablation_results['drawer'][which][split]['avp']\n",
    "        macro_f1 = subablation_results['drawer'][which][split]['macro_f1']\n",
    "        latex_table += f'{which} & {split} & {avp:.5f} & {macro_f1:.5f}'\n",
    "\n",
    "        avp = subablation_results['teller'][which][split]['avp']\n",
    "        macro_f1 = subablation_results['teller'][which][split]['macro_f1']\n",
    "        latex_table += f' & {avp:.5f} & {macro_f1:.5f} \\\\\\\\ \\n\\n'\n",
    "\n",
    "print(latex_table)"
   ]
  },
  {
   "cell_type": "markdown",
   "metadata": {},
   "source": [
    "Again, same table using differences to main results:"
   ]
  },
  {
   "cell_type": "code",
   "execution_count": 13,
   "metadata": {},
   "outputs": [
    {
     "name": "stdout",
     "output_type": "stream",
     "text": [
      "no-teller & val & -0.00149 & 0.00029 & -0.00127 & -0.00054 \\\\ \n",
      "\n",
      "no-teller & test & 0.04500 & 0.01308 & -0.00021 & -0.00153 \\\\ \n",
      "\n",
      "no-drawer & val & -0.08719 & -0.05487 & -0.00046 & 0.00706 \\\\ \n",
      "\n",
      "no-drawer & test & -0.07881 & -0.05228 & 0.00109 & 0.00479 \\\\ \n",
      "\n",
      "\n"
     ]
    }
   ],
   "source": [
    "latex_table = ''\n",
    "\n",
    "for which in ('no-teller', 'no-drawer'):\n",
    "    for split in ('val', 'test'):\n",
    "        \n",
    "        avp = subablation_results['drawer'][which][split]['avp']\n",
    "        macro_f1 = subablation_results['drawer'][which][split]['macro_f1']\n",
    "        diff_avp = avp - main_results['drawer'][split]['avp']\n",
    "        diff_macro_f1 = macro_f1 - main_results['drawer'][split]['macro_f1']\n",
    "        latex_table += f'{which} & {split} & {diff_avp:.5f} & {diff_macro_f1:.5f}'\n",
    "\n",
    "        avp = subablation_results['teller'][which][split]['avp']\n",
    "        macro_f1 = subablation_results['teller'][which][split]['macro_f1']\n",
    "        diff_avp = avp - main_results['teller'][split]['avp']\n",
    "        diff_macro_f1 = macro_f1 - main_results['teller'][split]['macro_f1']\n",
    "        latex_table += f' & {diff_avp:.5f} & {diff_macro_f1:.5f} \\\\\\\\ \\n\\n'\n",
    "\n",
    "print(latex_table)"
   ]
  },
  {
   "cell_type": "markdown",
   "metadata": {},
   "source": [
    "## Detailed analysis on Task 1, validation set"
   ]
  },
  {
   "cell_type": "code",
   "execution_count": 29,
   "metadata": {},
   "outputs": [],
   "source": [
    "CODRAW_PATH = '../data/CoDraw-master/dataset/CoDraw_1_0.json'\n",
    "ANNOTATION_PATH =  '../data/cr_anno_adjudication/data_adju.tsv'\n",
    "ICR_COLUMN = 'is CR? v2'\n",
    "\n",
    "INCLUDE_PEEK = True\n",
    "SPLIT = 'val'\n",
    "TASK = 'teller' # 'drawer'"
   ]
  },
  {
   "cell_type": "code",
   "execution_count": 30,
   "metadata": {},
   "outputs": [],
   "source": [
    "with open(CODRAW_PATH, 'r') as f:\n",
    "    codraw = json.load(f)\n",
    "    \n",
    "annotated = pd.read_csv(ANNOTATION_PATH, sep='\\t')\n",
    "sentences = annotated['drawer\\'s utterance']\n",
    "icr_labels = annotated[ICR_COLUMN]\n",
    "icrs = set([sent for sent, label in zip(sentences, icr_labels) if label == 1])"
   ]
  },
  {
   "cell_type": "code",
   "execution_count": 31,
   "metadata": {},
   "outputs": [],
   "source": [
    "games = {}\n",
    "for name, infos in codraw['data'].items():\n",
    "    if SPLIT in name:\n",
    "        game_idx = int(name.split('_')[1])\n",
    "        game = Game(name, infos, icrs, quick_load=True, include_peek=INCLUDE_PEEK)\n",
    "        games[game_idx] = game\n",
    "\n",
    "assert len(games) == 1002"
   ]
  },
  {
   "cell_type": "code",
   "execution_count": 32,
   "metadata": {},
   "outputs": [],
   "source": [
    "path = main_results[TASK]['path']\n",
    "config, best_epoch, val_outputs, test_outputs = retrieve_outputs(Path(path))\n",
    "game_ids, turns, labels, predictions, probs = split_outputs(val_outputs)"
   ]
  },
  {
   "cell_type": "code",
   "execution_count": 33,
   "metadata": {},
   "outputs": [
    {
     "name": "stdout",
     "output_type": "stream",
     "text": [
      "0.11926367643246046\n"
     ]
    }
   ],
   "source": [
    "positive = len([x for x in labels if x == 1])\n",
    "negative = len([x for x in labels if x == 0])\n",
    "\n",
    "print(positive / (positive + negative))"
   ]
  },
  {
   "cell_type": "markdown",
   "metadata": {},
   "source": [
    "Various metrics:"
   ]
  },
  {
   "cell_type": "code",
   "execution_count": 34,
   "metadata": {},
   "outputs": [
    {
     "name": "stdout",
     "output_type": "stream",
     "text": [
      "Accuracy:  0.9865180191858958\n",
      "Balanced accuracy:  0.9871774647707057\n",
      "macro F1:  0.9690947084372876\n",
      "F1:  0.9458896982310094\n",
      "Brier score:  0.010372102766169374\n",
      "Average precision:  0.9912618471877199\n",
      "AUC ROC:  0.9988924050632911\n",
      "Confusion matrix:\n",
      " [[6701   93]\n",
      " [  11  909]]\n",
      "\n",
      "Classification report\n",
      "               precision    recall  f1-score   support\n",
      "\n",
      "           0       1.00      0.99      0.99      6794\n",
      "           1       0.91      0.99      0.95       920\n",
      "\n",
      "    accuracy                           0.99      7714\n",
      "   macro avg       0.95      0.99      0.97      7714\n",
      "weighted avg       0.99      0.99      0.99      7714\n",
      "\n"
     ]
    }
   ],
   "source": [
    "accuracy = metrics.accuracy_score(labels, predictions)\n",
    "print('Accuracy: ', accuracy)\n",
    "\n",
    "balanced_accuracy = metrics.balanced_accuracy_score(labels, predictions)\n",
    "print('Balanced accuracy: ', balanced_accuracy)\n",
    "\n",
    "macro_f1 = metrics.f1_score(labels, predictions, average='macro')\n",
    "print('macro F1: ', macro_f1)\n",
    "\n",
    "f1 = metrics.f1_score(labels, predictions, average='binary')\n",
    "print('F1: ', f1)\n",
    "\n",
    "brier = metrics.brier_score_loss(labels, probs)\n",
    "print('Brier score: ', brier)\n",
    "\n",
    "avp = metrics.average_precision_score(labels, probs)\n",
    "print('Average precision: ', avp)\n",
    "\n",
    "fpr, tpr, thresholds_roc = metrics.roc_curve(labels, probs, pos_label=1)\n",
    "roc_auc = metrics.auc(fpr, tpr)\n",
    "print('AUC ROC: ', roc_auc)\n",
    "\n",
    "precisions, recalls, thresholds_pr = metrics.precision_recall_curve(labels, probs)\n",
    "\n",
    "confusion = metrics.confusion_matrix(labels, predictions)\n",
    "print('Confusion matrix:\\n', confusion)\n",
    "\n",
    "print('\\nClassification report\\n', metrics.classification_report(labels, predictions))"
   ]
  },
  {
   "cell_type": "code",
   "execution_count": 35,
   "metadata": {},
   "outputs": [
    {
     "data": {
      "text/plain": [
       "[<matplotlib.lines.Line2D at 0x7f0f0ae6ec18>]"
      ]
     },
     "execution_count": 35,
     "metadata": {},
     "output_type": "execute_result"
    },
    {
     "data": {
      "image/png": "[encoded data removed]",
      "text/plain": [
       "<Figure size 432x288 with 1 Axes>"
      ]
     },
     "metadata": {},
     "output_type": "display_data"
    }
   ],
   "source": [
    "display = metrics.RocCurveDisplay(fpr=fpr, tpr=tpr, roc_auc=roc_auc, pos_label=1)\n",
    "display.plot()\n",
    "display.ax_.plot([0, 1], [0, 1], 'r--')"
   ]
  },
  {
   "cell_type": "code",
   "execution_count": 36,
   "metadata": {},
   "outputs": [
    {
     "data": {
      "image/png": "[encoded data removed]",
      "text/plain": [
       "<Figure size 432x288 with 1 Axes>"
      ]
     },
     "metadata": {},
     "output_type": "display_data"
    }
   ],
   "source": [
    "sns.lineplot(x=fpr, y=tpr, label=f'AUC={roc_auc:.2f}')\n",
    "plt.plot([0, 1], [0, 1], 'r--', label='random')\n",
    "plt.xlabel('False Positive Rate')\n",
    "plt.ylim(-0.1, 1.1)\n",
    "plt.ylabel('True Positive Rate')\n",
    "plt.legend(loc='lower right')\n",
    "plt.savefig(f'figures/roc_curve_{TASK}_{SPLIT}.pdf', bbox_inches='tight')\n",
    "plt.show()"
   ]
  },
  {
   "cell_type": "code",
   "execution_count": 37,
   "metadata": {},
   "outputs": [
    {
     "data": {
      "text/plain": [
       "<matplotlib.lines.Line2D at 0x7f0f0ba0cdd8>"
      ]
     },
     "execution_count": 37,
     "metadata": {},
     "output_type": "execute_result"
    },
    {
     "data": {
      "image/png": "[encoded data removed]",
      "text/plain": [
       "<Figure size 432x288 with 1 Axes>"
      ]
     },
     "metadata": {},
     "output_type": "display_data"
    }
   ],
   "source": [
    "display = metrics.PrecisionRecallDisplay(precisions, recalls, average_precision=avp)\n",
    "display.plot()\n",
    "\n",
    "rand_line = positive / (positive + negative)\n",
    "display.ax_.axhline(rand_line, color='r', ls='--')"
   ]
  },
  {
   "cell_type": "code",
   "execution_count": 38,
   "metadata": {},
   "outputs": [
    {
     "data": {
      "image/png": "[encoded data removed]",
      "text/plain": [
       "<Figure size 432x288 with 1 Axes>"
      ]
     },
     "metadata": {},
     "output_type": "display_data"
    }
   ],
   "source": [
    "sns.lineplot(x=recalls, y=precisions)\n",
    "rand_line = positive / (positive + negative)\n",
    "plt.axhline(rand_line, color='r', ls='--', label='random')\n",
    "plt.xlabel('recall')\n",
    "plt.ylim(0, 1.1)\n",
    "plt.ylabel('precision')\n",
    "plt.legend()\n",
    "plt.savefig(f'figures/precrec_curve_{TASK}_{SPLIT}.pdf', bbox_inches='tight')\n",
    "plt.show()"
   ]
  },
  {
   "cell_type": "code",
   "execution_count": 39,
   "metadata": {},
   "outputs": [
    {
     "data": {
      "image/png": "[encoded data removed]",
      "text/plain": [
       "<Figure size 360x288 with 2 Axes>"
      ]
     },
     "metadata": {},
     "output_type": "display_data"
    }
   ],
   "source": [
    "cm = normalize(confusion, axis=1, norm='l1')\n",
    "df_cm = pd.DataFrame(cm, index = ['not iCR', 'iCR'], columns = ['not iCR', 'iCR'])\n",
    "\n",
    "f, ax = plt.subplots(1, 1, figsize=(5, 4))\n",
    "custom_palette = sns.color_palette(\"BuPu\", as_cmap=True)\n",
    "\n",
    "ax.xaxis.set_ticks_position('top')\n",
    "ax.xaxis.set_label_position('top')\n",
    "sns.heatmap(df_cm, annot=True, fmt = '.1%', vmin=0, vmax=1, cmap=custom_palette, annot_kws={\"fontsize\":12}, ax=ax)\n",
    "ax.set_yticklabels(labels=ax.get_yticklabels(), va='center', rotation=90, fontsize=14)\n",
    "ax.set_xticklabels(labels=ax.get_xticklabels(), va='center', rotation=0, fontsize=14)\n",
    "\n",
    "ax.set_xlabel('predicted classes', fontsize=14)\n",
    "ax.set_ylabel('real classes', fontsize=14)\n",
    "\n",
    "plt.show()"
   ]
  },
  {
   "cell_type": "markdown",
   "metadata": {},
   "source": [
    "Break down results by turn:"
   ]
  },
  {
   "cell_type": "code",
   "execution_count": 40,
   "metadata": {},
   "outputs": [],
   "source": [
    "preds_by_turn = {}\n",
    "\n",
    "for i in range(len(val_outputs)):\n",
    "    if turns[i] not in preds_by_turn:\n",
    "        preds_by_turn[turns[i]] = {'preds': [], 'labels': [], 'probs': []}\n",
    "    preds_by_turn[turns[i]]['preds'].append(predictions[i])\n",
    "    preds_by_turn[turns[i]]['labels'].append(labels[i])\n",
    "    preds_by_turn[turns[i]]['probs'].append(probs[i])"
   ]
  },
  {
   "cell_type": "code",
   "execution_count": 41,
   "metadata": {},
   "outputs": [
    {
     "name": "stdout",
     "output_type": "stream",
     "text": [
      "\n",
      "\n",
      " STATS FOR TURN  0 \n",
      "\n",
      "\n",
      "Classification report\n",
      "               precision    recall  f1-score   support\n",
      "\n",
      "           0       1.00      0.99      1.00       959\n",
      "           1       0.88      1.00      0.93        43\n",
      "\n",
      "    accuracy                           0.99      1002\n",
      "   macro avg       0.94      1.00      0.97      1002\n",
      "weighted avg       0.99      0.99      0.99      1002\n",
      "\n",
      "\n",
      "\n",
      " STATS FOR TURN  1 \n",
      "\n",
      "\n",
      "Classification report\n",
      "               precision    recall  f1-score   support\n",
      "\n",
      "           0       1.00      0.99      0.99       860\n",
      "           1       0.92      0.98      0.95       142\n",
      "\n",
      "    accuracy                           0.99      1002\n",
      "   macro avg       0.96      0.98      0.97      1002\n",
      "weighted avg       0.99      0.99      0.99      1002\n",
      "\n",
      "\n",
      "\n",
      " STATS FOR TURN  2 \n",
      "\n",
      "\n",
      "Classification report\n",
      "               precision    recall  f1-score   support\n",
      "\n",
      "           0       1.00      0.98      0.99       820\n",
      "           1       0.93      1.00      0.97       182\n",
      "\n",
      "    accuracy                           0.99      1002\n",
      "   macro avg       0.97      0.99      0.98      1002\n",
      "weighted avg       0.99      0.99      0.99      1002\n",
      "\n",
      "\n",
      "\n",
      " STATS FOR TURN  3 \n",
      "\n",
      "\n",
      "Classification report\n",
      "               precision    recall  f1-score   support\n",
      "\n",
      "           0       1.00      0.99      1.00       858\n",
      "           1       0.95      0.99      0.97       141\n",
      "\n",
      "    accuracy                           0.99       999\n",
      "   macro avg       0.98      0.99      0.98       999\n",
      "weighted avg       0.99      0.99      0.99       999\n",
      "\n",
      "\n",
      "\n",
      " STATS FOR TURN  4 \n",
      "\n",
      "\n",
      "Classification report\n",
      "               precision    recall  f1-score   support\n",
      "\n",
      "           0       1.00      1.00      1.00       843\n",
      "           1       0.96      0.99      0.97        97\n",
      "\n",
      "    accuracy                           0.99       940\n",
      "   macro avg       0.98      0.99      0.99       940\n",
      "weighted avg       0.99      0.99      0.99       940\n",
      "\n",
      "\n",
      "\n",
      " STATS FOR TURN  5 \n",
      "\n",
      "\n",
      "Classification report\n",
      "               precision    recall  f1-score   support\n",
      "\n",
      "           0       1.00      0.98      0.99       712\n",
      "           1       0.89      1.00      0.94        92\n",
      "\n",
      "    accuracy                           0.99       804\n",
      "   macro avg       0.95      0.99      0.97       804\n",
      "weighted avg       0.99      0.99      0.99       804\n",
      "\n",
      "\n",
      "\n",
      " STATS FOR TURN  6 \n",
      "\n",
      "\n",
      "Classification report\n",
      "               precision    recall  f1-score   support\n",
      "\n",
      "           0       1.00      0.98      0.99       554\n",
      "           1       0.87      0.97      0.92        73\n",
      "\n",
      "    accuracy                           0.98       627\n",
      "   macro avg       0.93      0.98      0.95       627\n",
      "weighted avg       0.98      0.98      0.98       627\n",
      "\n",
      "\n",
      "\n",
      " STATS FOR TURN  7 \n",
      "\n",
      "\n",
      "Classification report\n",
      "               precision    recall  f1-score   support\n",
      "\n",
      "           0       1.00      0.99      0.99       394\n",
      "           1       0.92      0.98      0.95        57\n",
      "\n",
      "    accuracy                           0.99       451\n",
      "   macro avg       0.96      0.98      0.97       451\n",
      "weighted avg       0.99      0.99      0.99       451\n",
      "\n",
      "\n",
      "\n",
      " STATS FOR TURN  8 \n",
      "\n",
      "\n",
      "Classification report\n",
      "               precision    recall  f1-score   support\n",
      "\n",
      "           0       1.00      0.99      0.99       291\n",
      "           1       0.88      0.97      0.92        30\n",
      "\n",
      "    accuracy                           0.98       321\n",
      "   macro avg       0.94      0.98      0.96       321\n",
      "weighted avg       0.99      0.98      0.98       321\n",
      "\n",
      "\n",
      "\n",
      " STATS FOR TURN  9 \n",
      "\n",
      "\n",
      "Classification report\n",
      "               precision    recall  f1-score   support\n",
      "\n",
      "           0       0.99      0.97      0.98       190\n",
      "           1       0.79      0.96      0.86        23\n",
      "\n",
      "    accuracy                           0.97       213\n",
      "   macro avg       0.89      0.96      0.92       213\n",
      "weighted avg       0.97      0.97      0.97       213\n",
      "\n",
      "\n",
      "\n",
      " STATS FOR TURN  10 \n",
      "\n",
      "\n",
      "Classification report\n",
      "               precision    recall  f1-score   support\n",
      "\n",
      "           0       1.00      0.96      0.98       115\n",
      "           1       0.71      1.00      0.83        12\n",
      "\n",
      "    accuracy                           0.96       127\n",
      "   macro avg       0.85      0.98      0.90       127\n",
      "weighted avg       0.97      0.96      0.96       127\n",
      "\n",
      "\n",
      "\n",
      " STATS FOR TURN  11 \n",
      "\n",
      "\n",
      "Classification report\n",
      "               precision    recall  f1-score   support\n",
      "\n",
      "           0       0.99      0.92      0.95        76\n",
      "           1       0.57      0.89      0.70         9\n",
      "\n",
      "    accuracy                           0.92        85\n",
      "   macro avg       0.78      0.90      0.82        85\n",
      "weighted avg       0.94      0.92      0.93        85\n",
      "\n",
      "\n",
      "\n",
      " STATS FOR TURN  12 \n",
      "\n",
      "\n",
      "Classification report\n",
      "               precision    recall  f1-score   support\n",
      "\n",
      "           0       1.00      0.98      0.99        50\n",
      "           1       0.83      1.00      0.91         5\n",
      "\n",
      "    accuracy                           0.98        55\n",
      "   macro avg       0.92      0.99      0.95        55\n",
      "weighted avg       0.98      0.98      0.98        55\n",
      "\n",
      "\n",
      "\n",
      " STATS FOR TURN  13 \n",
      "\n",
      "\n",
      "Classification report\n",
      "               precision    recall  f1-score   support\n",
      "\n",
      "           0       1.00      0.97      0.98        30\n",
      "           1       0.83      1.00      0.91         5\n",
      "\n",
      "    accuracy                           0.97        35\n",
      "   macro avg       0.92      0.98      0.95        35\n",
      "weighted avg       0.98      0.97      0.97        35\n",
      "\n",
      "\n",
      "\n",
      " STATS FOR TURN  14 \n",
      "\n",
      "\n",
      "Classification report\n",
      "               precision    recall  f1-score   support\n",
      "\n",
      "           0       1.00      0.95      0.97        20\n",
      "           1       0.75      1.00      0.86         3\n",
      "\n",
      "    accuracy                           0.96        23\n",
      "   macro avg       0.88      0.97      0.92        23\n",
      "weighted avg       0.97      0.96      0.96        23\n",
      "\n",
      "\n",
      "\n",
      " STATS FOR TURN  15 \n",
      "\n",
      "\n",
      "Classification report\n",
      "               precision    recall  f1-score   support\n",
      "\n",
      "           0       1.00      1.00      1.00        12\n",
      "           1       1.00      1.00      1.00         3\n",
      "\n",
      "    accuracy                           1.00        15\n",
      "   macro avg       1.00      1.00      1.00        15\n",
      "weighted avg       1.00      1.00      1.00        15\n",
      "\n",
      "\n",
      "\n",
      " STATS FOR TURN  16 \n",
      "\n",
      "\n",
      "Classification report\n",
      "               precision    recall  f1-score   support\n",
      "\n",
      "           0       1.00      1.00      1.00         8\n",
      "           1       1.00      1.00      1.00         2\n",
      "\n",
      "    accuracy                           1.00        10\n",
      "   macro avg       1.00      1.00      1.00        10\n",
      "weighted avg       1.00      1.00      1.00        10\n",
      "\n",
      "\n",
      "\n",
      " STATS FOR TURN  17 \n",
      "\n",
      "\n",
      "Classification report\n",
      "               precision    recall  f1-score   support\n",
      "\n",
      "           0       1.00      1.00      1.00         1\n",
      "           1       1.00      1.00      1.00         1\n",
      "\n",
      "    accuracy                           1.00         2\n",
      "   macro avg       1.00      1.00      1.00         2\n",
      "weighted avg       1.00      1.00      1.00         2\n",
      "\n"
     ]
    }
   ],
   "source": [
    "macro_f1_scores = []\n",
    "binary_f1_scores = []\n",
    "accs = []\n",
    "balanced_accs = []\n",
    "avps = []\n",
    "roc_aucs = []\n",
    "precisions = []\n",
    "recalls = []\n",
    "\n",
    "for i in range(max(preds_by_turn.keys())):\n",
    "    \n",
    "    labels = preds_by_turn[i]['labels']\n",
    "    predictions = preds_by_turn[i]['preds']\n",
    "    probs = preds_by_turn[i]['probs']\n",
    "    \n",
    "    print('\\n\\n STATS FOR TURN ', i, '\\n')\n",
    "    \n",
    "    accs.append(metrics.accuracy_score(labels, predictions))\n",
    "    balanced_accs.append(metrics.balanced_accuracy_score(labels, predictions))\n",
    "    macro_f1_scores.append(metrics.f1_score(labels, predictions, average='macro'))\n",
    "    binary_f1_scores.append(metrics.f1_score(labels, predictions, average='binary'))\n",
    "\n",
    "    print('\\nClassification report\\n', metrics.classification_report(labels, predictions))\n",
    "\n",
    "    avps.append(metrics.average_precision_score(labels, probs))\n",
    "    fpr, tpr, thresholds_roc = metrics.roc_curve(labels, probs, pos_label=1)\n",
    "    roc_aucs.append(metrics.auc(fpr, tpr))\n",
    "\n",
    "    precisions.append(metrics.precision_score(labels, predictions))\n",
    "    recalls.append(metrics.recall_score(labels, predictions))"
   ]
  },
  {
   "cell_type": "code",
   "execution_count": 42,
   "metadata": {},
   "outputs": [
    {
     "data": {
      "text/plain": [
       "[1002,\n",
       " 1002,\n",
       " 1002,\n",
       " 999,\n",
       " 940,\n",
       " 804,\n",
       " 627,\n",
       " 451,\n",
       " 321,\n",
       " 213,\n",
       " 127,\n",
       " 85,\n",
       " 55,\n",
       " 35,\n",
       " 23,\n",
       " 15,\n",
       " 10,\n",
       " 2]"
      ]
     },
     "execution_count": 42,
     "metadata": {},
     "output_type": "execute_result"
    }
   ],
   "source": [
    "turn_indexes = list(range(max(preds_by_turn.keys())))\n",
    "n_obs = [len(preds_by_turn[i]['labels']) for i in turn_indexes]\n",
    "n_obs"
   ]
  },
  {
   "cell_type": "code",
   "execution_count": 43,
   "metadata": {},
   "outputs": [],
   "source": [
    "if TASK == 'drawer':\n",
    "    sns.scatterplot(x=turn_indexes, y=avps, hue=n_obs, size=n_obs, sizes=(1, 500), palette='viridis')\n",
    "    plt.xlabel('dialogue round')\n",
    "    plt.ylabel('average precision')\n",
    "    plt.legend(loc='center left', bbox_to_anchor=(1.25, 0.5), ncol=1)\n",
    "    plt.yticks([0, 0.2, 0.4, 0.6, 0.8, 1])\n",
    "    plt.xticks(turn_indexes)\n",
    "    plt.legend(loc ='lower right')\n",
    "    plt.savefig(f'figures/avp_per_round_{TASK}val.pdf', bbox_inches='tight')\n",
    "    plt.show()"
   ]
  },
  {
   "cell_type": "code",
   "execution_count": null,
   "metadata": {},
   "outputs": [],
   "source": []
  }
 ],
 "metadata": {
  "kernelspec": {
   "display_name": "Python 3",
   "language": "python",
   "name": "python3"
  },
  "language_info": {
   "codemirror_mode": {
    "name": "ipython",
    "version": 3
   },
   "file_extension": ".py",
   "mimetype": "text/x-python",
   "name": "python",
   "nbconvert_exporter": "python",
   "pygments_lexer": "ipython3",
   "version": "3.6.9"
  }
 },
 "nbformat": 4,
 "nbformat_minor": 2
}
